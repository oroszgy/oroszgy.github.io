{
 "cells": [
  {
   "cell_type": "markdown",
   "metadata": {},
   "source": [
    "## Building a pipeline"
   ]
  },
  {
   "cell_type": "code",
   "execution_count": 1,
   "metadata": {
    "collapsed": false
   },
   "outputs": [
    {
     "name": "stdout",
     "output_type": "stream",
     "text": [
      "Populating the interactive namespace from numpy and matplotlib\n"
     ]
    }
   ],
   "source": [
    "%pylab inline"
   ]
  },
  {
   "cell_type": "code",
   "execution_count": 2,
   "metadata": {
    "collapsed": true
   },
   "outputs": [],
   "source": [
    "import sklearn\n",
    "from sklearn.linear_model import LogisticRegression\n",
    "from sklearn.datasets import load_digits\n",
    "from sklearn.pipeline import Pipeline\n",
    "from sklearn.decomposition import PCA"
   ]
  },
  {
   "cell_type": "code",
   "execution_count": 3,
   "metadata": {
    "collapsed": true
   },
   "outputs": [],
   "source": [
    "digits = load_digits()\n",
    "X_digits = digits.data\n",
    "y_digits = digits.target"
   ]
  },
  {
   "cell_type": "code",
   "execution_count": 4,
   "metadata": {
    "collapsed": false
   },
   "outputs": [],
   "source": [
    "logistic = LogisticRegression()\n",
    "pca = PCA()\n",
    "pipe = Pipeline(steps=[('pca', pca), ('logistic', logistic)])"
   ]
  },
  {
   "cell_type": "code",
   "execution_count": 5,
   "metadata": {
    "collapsed": false
   },
   "outputs": [
    {
     "data": {
      "text/plain": [
       "Pipeline(steps=[('pca', PCA(copy=True, n_components=None, whiten=False)), ('logistic', LogisticRegression(C=1.0, class_weight=None, dual=False, fit_intercept=True,\n",
       "          intercept_scaling=1, max_iter=100, multi_class='ovr', n_jobs=1,\n",
       "          penalty='l2', random_state=None, solver='liblinear', tol=0.0001,\n",
       "          verbose=0, warm_start=False))])"
      ]
     },
     "execution_count": 5,
     "metadata": {},
     "output_type": "execute_result"
    }
   ],
   "source": [
    "pipe.fit(X_digits, y_digits)"
   ]
  },
  {
   "cell_type": "code",
   "execution_count": 6,
   "metadata": {
    "collapsed": false
   },
   "outputs": [
    {
     "data": {
      "text/plain": [
       "array([0])"
      ]
     },
     "execution_count": 6,
     "metadata": {},
     "output_type": "execute_result"
    }
   ],
   "source": [
    "pipe.predict(X_digits[:1])"
   ]
  },
  {
   "cell_type": "markdown",
   "metadata": {},
   "source": [
    "## Finding the best model"
   ]
  },
  {
   "cell_type": "code",
   "execution_count": 7,
   "metadata": {
    "collapsed": true
   },
   "outputs": [],
   "source": [
    "from sklearn.grid_search import GridSearchCV"
   ]
  },
  {
   "cell_type": "code",
   "execution_count": 8,
   "metadata": {
    "collapsed": false
   },
   "outputs": [
    {
     "data": {
      "text/plain": [
       "GridSearchCV(cv=5, error_score='raise',\n",
       "       estimator=Pipeline(steps=[('pca', PCA(copy=True, n_components=None, whiten=False)), ('logistic', LogisticRegression(C=1.0, class_weight=None, dual=False, fit_intercept=True,\n",
       "          intercept_scaling=1, max_iter=100, multi_class='ovr', n_jobs=1,\n",
       "          penalty='l2', random_state=None, solver='liblinear', tol=0.0001,\n",
       "          verbose=0, warm_start=False))]),\n",
       "       fit_params={}, iid=True, n_jobs=8,\n",
       "       param_grid={'logistic__class_weight': [None, 'balanced'], 'logistic__C': array([  1.00000e-04,   1.00000e-02,   1.00000e+00]), 'logistic__penalty': ['l1', 'l2'], 'pca__n_components': [20, 40, 64]},\n",
       "       pre_dispatch='2*n_jobs', refit=True, scoring=None, verbose=0)"
      ]
     },
     "execution_count": 8,
     "metadata": {},
     "output_type": "execute_result"
    }
   ],
   "source": [
    "n_components = [20, 40, 64] # number of compomentens in PCA \n",
    "Cs = np.logspace(-4, 0, 3, 4) # Inverse of regularization strength\n",
    "penalty = [\"l1\", \"l2\"] # Norm used by the Logistic regression penalization\n",
    "class_weight = [None, \"balanced\"] # Weights associatied with clases\n",
    "\n",
    "estimator = GridSearchCV(pipe,\n",
    "                         {\"pca__n_components\": n_components,\n",
    "                          \"logistic__C\": Cs,\n",
    "                          \"logistic__class_weight\": class_weight,\n",
    "                          \"logistic__penalty\": penalty\n",
    "                         }, n_jobs=8, cv=5)\n",
    "estimator.fit(X_digits, y_digits)"
   ]
  },
  {
   "cell_type": "code",
   "execution_count": 9,
   "metadata": {
    "collapsed": false,
    "scrolled": true
   },
   "outputs": [
    {
     "data": {
      "text/plain": [
       "[mean: 0.09905, std: 0.00076, params: {'logistic__class_weight': None, 'pca__n_components': 20, 'logistic__penalty': 'l1', 'logistic__C': 0.0001},\n",
       " mean: 0.09905, std: 0.00076, params: {'logistic__class_weight': None, 'pca__n_components': 40, 'logistic__penalty': 'l1', 'logistic__C': 0.0001},\n",
       " mean: 0.09905, std: 0.00076, params: {'logistic__class_weight': None, 'pca__n_components': 64, 'logistic__penalty': 'l1', 'logistic__C': 0.0001},\n",
       " mean: 0.87702, std: 0.03613, params: {'logistic__class_weight': None, 'pca__n_components': 20, 'logistic__penalty': 'l2', 'logistic__C': 0.0001},\n",
       " mean: 0.88592, std: 0.03789, params: {'logistic__class_weight': None, 'pca__n_components': 40, 'logistic__penalty': 'l2', 'logistic__C': 0.0001},\n",
       " mean: 0.88703, std: 0.03829, params: {'logistic__class_weight': None, 'pca__n_components': 64, 'logistic__penalty': 'l2', 'logistic__C': 0.0001},\n",
       " mean: 0.09905, std: 0.00076, params: {'logistic__class_weight': 'balanced', 'pca__n_components': 20, 'logistic__penalty': 'l1', 'logistic__C': 0.0001},\n",
       " mean: 0.09905, std: 0.00076, params: {'logistic__class_weight': 'balanced', 'pca__n_components': 40, 'logistic__penalty': 'l1', 'logistic__C': 0.0001},\n",
       " mean: 0.09905, std: 0.00076, params: {'logistic__class_weight': 'balanced', 'pca__n_components': 64, 'logistic__penalty': 'l1', 'logistic__C': 0.0001},\n",
       " mean: 0.87590, std: 0.03502, params: {'logistic__class_weight': 'balanced', 'pca__n_components': 20, 'logistic__penalty': 'l2', 'logistic__C': 0.0001},\n",
       " mean: 0.88592, std: 0.03789, params: {'logistic__class_weight': 'balanced', 'pca__n_components': 40, 'logistic__penalty': 'l2', 'logistic__C': 0.0001},\n",
       " mean: 0.88703, std: 0.03829, params: {'logistic__class_weight': 'balanced', 'pca__n_components': 64, 'logistic__penalty': 'l2', 'logistic__C': 0.0001},\n",
       " mean: 0.89482, std: 0.03603, params: {'logistic__class_weight': None, 'pca__n_components': 20, 'logistic__penalty': 'l1', 'logistic__C': 0.01},\n",
       " mean: 0.89538, std: 0.03581, params: {'logistic__class_weight': None, 'pca__n_components': 40, 'logistic__penalty': 'l1', 'logistic__C': 0.01},\n",
       " mean: 0.89538, std: 0.03581, params: {'logistic__class_weight': None, 'pca__n_components': 64, 'logistic__penalty': 'l1', 'logistic__C': 0.01},\n",
       " mean: 0.88481, std: 0.03741, params: {'logistic__class_weight': None, 'pca__n_components': 20, 'logistic__penalty': 'l2', 'logistic__C': 0.01},\n",
       " mean: 0.90484, std: 0.03247, params: {'logistic__class_weight': None, 'pca__n_components': 40, 'logistic__penalty': 'l2', 'logistic__C': 0.01},\n",
       " mean: 0.90262, std: 0.03276, params: {'logistic__class_weight': None, 'pca__n_components': 64, 'logistic__penalty': 'l2', 'logistic__C': 0.01},\n",
       " mean: 0.89482, std: 0.03603, params: {'logistic__class_weight': 'balanced', 'pca__n_components': 20, 'logistic__penalty': 'l1', 'logistic__C': 0.01},\n",
       " mean: 0.89649, std: 0.03544, params: {'logistic__class_weight': 'balanced', 'pca__n_components': 40, 'logistic__penalty': 'l1', 'logistic__C': 0.01},\n",
       " mean: 0.89649, std: 0.03544, params: {'logistic__class_weight': 'balanced', 'pca__n_components': 64, 'logistic__penalty': 'l1', 'logistic__C': 0.01},\n",
       " mean: 0.88481, std: 0.03862, params: {'logistic__class_weight': 'balanced', 'pca__n_components': 20, 'logistic__penalty': 'l2', 'logistic__C': 0.01},\n",
       " mean: 0.90484, std: 0.03247, params: {'logistic__class_weight': 'balanced', 'pca__n_components': 40, 'logistic__penalty': 'l2', 'logistic__C': 0.01},\n",
       " mean: 0.90373, std: 0.03219, params: {'logistic__class_weight': 'balanced', 'pca__n_components': 64, 'logistic__penalty': 'l2', 'logistic__C': 0.01},\n",
       " mean: 0.91653, std: 0.02974, params: {'logistic__class_weight': None, 'pca__n_components': 20, 'logistic__penalty': 'l1', 'logistic__C': 1.0},\n",
       " mean: 0.92209, std: 0.03039, params: {'logistic__class_weight': None, 'pca__n_components': 40, 'logistic__penalty': 'l1', 'logistic__C': 1.0},\n",
       " mean: 0.91820, std: 0.02980, params: {'logistic__class_weight': None, 'pca__n_components': 64, 'logistic__penalty': 'l1', 'logistic__C': 1.0},\n",
       " mean: 0.91820, std: 0.02660, params: {'logistic__class_weight': None, 'pca__n_components': 20, 'logistic__penalty': 'l2', 'logistic__C': 1.0},\n",
       " mean: 0.91820, std: 0.03286, params: {'logistic__class_weight': None, 'pca__n_components': 40, 'logistic__penalty': 'l2', 'logistic__C': 1.0},\n",
       " mean: 0.91653, std: 0.03731, params: {'logistic__class_weight': None, 'pca__n_components': 64, 'logistic__penalty': 'l2', 'logistic__C': 1.0},\n",
       " mean: 0.91653, std: 0.02974, params: {'logistic__class_weight': 'balanced', 'pca__n_components': 20, 'logistic__penalty': 'l1', 'logistic__C': 1.0},\n",
       " mean: 0.92154, std: 0.03069, params: {'logistic__class_weight': 'balanced', 'pca__n_components': 40, 'logistic__penalty': 'l1', 'logistic__C': 1.0},\n",
       " mean: 0.91820, std: 0.02980, params: {'logistic__class_weight': 'balanced', 'pca__n_components': 64, 'logistic__penalty': 'l1', 'logistic__C': 1.0},\n",
       " mean: 0.91875, std: 0.02700, params: {'logistic__class_weight': 'balanced', 'pca__n_components': 20, 'logistic__penalty': 'l2', 'logistic__C': 1.0},\n",
       " mean: 0.91708, std: 0.03293, params: {'logistic__class_weight': 'balanced', 'pca__n_components': 40, 'logistic__penalty': 'l2', 'logistic__C': 1.0},\n",
       " mean: 0.91597, std: 0.03789, params: {'logistic__class_weight': 'balanced', 'pca__n_components': 64, 'logistic__penalty': 'l2', 'logistic__C': 1.0}]"
      ]
     },
     "execution_count": 9,
     "metadata": {},
     "output_type": "execute_result"
    }
   ],
   "source": [
    "estimator.grid_scores_"
   ]
  },
  {
   "cell_type": "code",
   "execution_count": 10,
   "metadata": {
    "collapsed": false
   },
   "outputs": [
    {
     "name": "stdout",
     "output_type": "stream",
     "text": [
      "0.922092376183\n",
      "{'logistic__class_weight': None, 'pca__n_components': 40, 'logistic__penalty': 'l1', 'logistic__C': 1.0}\n"
     ]
    }
   ],
   "source": [
    "print(estimator.best_score_)\n",
    "print(estimator.best_params_)"
   ]
  },
  {
   "cell_type": "markdown",
   "metadata": {},
   "source": [
    "## Exercise"
   ]
  },
  {
   "cell_type": "markdown",
   "metadata": {},
   "source": [
    "Find the best model for the diabetes dataset\n",
    "\n",
    "http://scikit-learn.org/stable/modules/generated/sklearn.datasets.load_diabetes.html#sklearn.datasets.load_diabetes"
   ]
  },
  {
   "cell_type": "code",
   "execution_count": null,
   "metadata": {
    "collapsed": true
   },
   "outputs": [],
   "source": []
  }
 ],
 "metadata": {
  "kernelspec": {
   "display_name": "Python 3",
   "language": "python",
   "name": "python3"
  },
  "language_info": {
   "codemirror_mode": {
    "name": "ipython",
    "version": 3
   },
   "file_extension": ".py",
   "mimetype": "text/x-python",
   "name": "python",
   "nbconvert_exporter": "python",
   "pygments_lexer": "ipython3",
   "version": "3.5.1"
  }
 },
 "nbformat": 4,
 "nbformat_minor": 0
}
