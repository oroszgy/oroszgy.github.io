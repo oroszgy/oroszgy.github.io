{
 "cells": [
  {
   "cell_type": "markdown",
   "metadata": {},
   "source": [
    "## Benchmarking your code"
   ]
  },
  {
   "cell_type": "code",
   "execution_count": 5,
   "metadata": {
    "collapsed": false
   },
   "outputs": [],
   "source": [
    "def fun():\n",
    "    max(range(1000))"
   ]
  },
  {
   "cell_type": "markdown",
   "metadata": {},
   "source": [
    "Using magic functions of Jupyter and `timeit`\n",
    "\n",
    "* https://docs.python.org/3.5/library/timeit.html\n",
    "* https://ipython.org/ipython-doc/3/interactive/magics.html#magic-time"
   ]
  },
  {
   "cell_type": "code",
   "execution_count": 10,
   "metadata": {
    "collapsed": false,
    "scrolled": true
   },
   "outputs": [
    {
     "name": "stdout",
     "output_type": "stream",
     "text": [
      "10000 loops, best of 3: 27.8 µs per loop\n"
     ]
    }
   ],
   "source": [
    "%%timeit\n",
    "fun()"
   ]
  },
  {
   "cell_type": "code",
   "execution_count": 7,
   "metadata": {
    "collapsed": false
   },
   "outputs": [
    {
     "name": "stdout",
     "output_type": "stream",
     "text": [
      "CPU times: user 44 µs, sys: 1 µs, total: 45 µs\n",
      "Wall time: 47 µs\n"
     ]
    }
   ],
   "source": [
    "%%time\n",
    "fun()"
   ]
  },
  {
   "cell_type": "markdown",
   "metadata": {},
   "source": [
    "## Exercises"
   ]
  },
  {
   "cell_type": "markdown",
   "metadata": {},
   "source": [
    "1. What is the fastest way to download 100 pages from index.hu?\n",
    "2. How to calculate the factors of 1000 random integers effectively using `factorize_naive` function below?"
   ]
  },
  {
   "cell_type": "code",
   "execution_count": 28,
   "metadata": {
    "collapsed": false
   },
   "outputs": [
    {
     "data": {
      "text/plain": [
       "<Response [200]>"
      ]
     },
     "execution_count": 28,
     "metadata": {},
     "output_type": "execute_result"
    }
   ],
   "source": [
    "import requests\n",
    "def get_page(url): \n",
    "    response = requests.request(url=url, method=\"GET\")\n",
    "    return response\n",
    "get_page(\"http://index.hu\")"
   ]
  },
  {
   "cell_type": "code",
   "execution_count": 12,
   "metadata": {
    "collapsed": true
   },
   "outputs": [],
   "source": [
    "def factorize_naive(n):\n",
    "    \"\"\" A naive factorization method. Take integer 'n', return list of\n",
    "        factors.\n",
    "    \"\"\"\n",
    "    if n < 2:\n",
    "        return []\n",
    "    factors = []\n",
    "    p = 2\n",
    "\n",
    "    while True:\n",
    "        if n == 1:\n",
    "            return factors\n",
    "\n",
    "        r = n % p\n",
    "        if r == 0:\n",
    "            factors.append(p)\n",
    "            n = n // p\n",
    "        elif p * p >= n:\n",
    "            factors.append(n)\n",
    "            return factors\n",
    "        elif p > 2:\n",
    "            # Advance in steps of 2 over odd numbers\n",
    "            p += 2\n",
    "        else:\n",
    "            # If p == 2, get to 3\n",
    "            p += 1\n",
    "    assert False, \"unreachable\""
   ]
  },
  {
   "cell_type": "code",
   "execution_count": null,
   "metadata": {
    "collapsed": true
   },
   "outputs": [],
   "source": []
  }
 ],
 "metadata": {
  "kernelspec": {
   "display_name": "Python 3",
   "language": "python",
   "name": "python3"
  },
  "language_info": {
   "codemirror_mode": {
    "name": "ipython",
    "version": 3
   },
   "file_extension": ".py",
   "mimetype": "text/x-python",
   "name": "python",
   "nbconvert_exporter": "python",
   "pygments_lexer": "ipython3",
   "version": "3.5.1"
  }
 },
 "nbformat": 4,
 "nbformat_minor": 0
}
